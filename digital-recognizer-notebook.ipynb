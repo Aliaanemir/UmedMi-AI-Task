{
 "cells": [
  {
   "cell_type": "code",
   "execution_count": 1,
   "metadata": {
    "_cell_guid": "b1076dfc-b9ad-4769-8c92-a6c4dae69d19",
    "_uuid": "8f2839f25d086af736a60e9eeb907d3b93b6e0e5",
    "execution": {
     "iopub.execute_input": "2021-01-04T07:05:27.081247Z",
     "iopub.status.busy": "2021-01-04T07:05:27.080657Z",
     "iopub.status.idle": "2021-01-04T07:05:27.090343Z",
     "shell.execute_reply": "2021-01-04T07:05:27.089684Z"
    },
    "papermill": {
     "duration": 0.02649,
     "end_time": "2021-01-04T07:05:27.090477",
     "exception": false,
     "start_time": "2021-01-04T07:05:27.063987",
     "status": "completed"
    },
    "tags": []
   },
   "outputs": [
    {
     "name": "stdout",
     "output_type": "stream",
     "text": [
      "/kaggle/input/digit-recognizer/sample_submission.csv\n",
      "/kaggle/input/digit-recognizer/train.csv\n",
      "/kaggle/input/digit-recognizer/test.csv\n"
     ]
    }
   ],
   "source": [
    "# This Python 3 environment comes with many helpful analytics libraries installed\n",
    "# It is defined by the kaggle/python Docker image: https://github.com/kaggle/docker-python\n",
    "# For example, here's several helpful packages to load\n",
    "\n",
    "import numpy as np # linear algebra\n",
    "import pandas as pd # data processing, CSV file I/O (e.g. pd.read_csv)\n",
    "\n",
    "# Input data files are available in the read-only \"../input/\" directory\n",
    "# For example, running this (by clicking run or pressing Shift+Enter) will list all files under the input directory\n",
    "\n",
    "import os\n",
    "for dirname, _, filenames in os.walk('/kaggle/input'):\n",
    "    for filename in filenames:\n",
    "        print(os.path.join(dirname, filename))\n",
    "\n",
    "# You can write up to 20GB to the current directory (/kaggle/working/) that gets preserved as output when you create a version using \"Save & Run All\" \n",
    "# You can also write temporary files to /kaggle/temp/, but they won't be saved outside of the current session"
   ]
  },
  {
   "cell_type": "markdown",
   "metadata": {
    "papermill": {
     "duration": 0.012318,
     "end_time": "2021-01-04T07:05:27.116456",
     "exception": false,
     "start_time": "2021-01-04T07:05:27.104138",
     "status": "completed"
    },
    "tags": []
   },
   "source": [
    "#  **Importing used libraries**"
   ]
  },
  {
   "cell_type": "code",
   "execution_count": 2,
   "metadata": {
    "_cell_guid": "79c7e3d0-c299-4dcb-8224-4455121ee9b0",
    "_uuid": "d629ff2d2480ee46fbb7e2d37f6b5fab8052498a",
    "execution": {
     "iopub.execute_input": "2021-01-04T07:05:27.150162Z",
     "iopub.status.busy": "2021-01-04T07:05:27.149417Z",
     "iopub.status.idle": "2021-01-04T07:05:33.586749Z",
     "shell.execute_reply": "2021-01-04T07:05:33.585420Z"
    },
    "papermill": {
     "duration": 6.458111,
     "end_time": "2021-01-04T07:05:33.586884",
     "exception": false,
     "start_time": "2021-01-04T07:05:27.128773",
     "status": "completed"
    },
    "tags": []
   },
   "outputs": [],
   "source": [
    "import pandas as pd\n",
    "import numpy as np\n",
    "import matplotlib.pyplot as plt\n",
    "import matplotlib.image as mpimg\n",
    "import seaborn as sns\n",
    "%matplotlib inline\n",
    "\n",
    "import tensorflow.keras as keras\n",
    "from keras.models import Sequential\n",
    "from keras.layers import Dense, Flatten, Conv2D, MaxPool2D"
   ]
  },
  {
   "cell_type": "markdown",
   "metadata": {
    "papermill": {
     "duration": 0.018656,
     "end_time": "2021-01-04T07:05:33.624639",
     "exception": false,
     "start_time": "2021-01-04T07:05:33.605983",
     "status": "completed"
    },
    "tags": []
   },
   "source": [
    "#  **Data Preparation**\n",
    "\n",
    "## Loading & Exploring The Dataset"
   ]
  },
  {
   "cell_type": "code",
   "execution_count": 3,
   "metadata": {
    "execution": {
     "iopub.execute_input": "2021-01-04T07:05:33.670884Z",
     "iopub.status.busy": "2021-01-04T07:05:33.670044Z",
     "iopub.status.idle": "2021-01-04T07:05:38.992450Z",
     "shell.execute_reply": "2021-01-04T07:05:38.991883Z"
    },
    "papermill": {
     "duration": 5.348926,
     "end_time": "2021-01-04T07:05:38.992553",
     "exception": false,
     "start_time": "2021-01-04T07:05:33.643627",
     "status": "completed"
    },
    "tags": []
   },
   "outputs": [
    {
     "data": {
      "text/html": [
       "<div>\n",
       "<style scoped>\n",
       "    .dataframe tbody tr th:only-of-type {\n",
       "        vertical-align: middle;\n",
       "    }\n",
       "\n",
       "    .dataframe tbody tr th {\n",
       "        vertical-align: top;\n",
       "    }\n",
       "\n",
       "    .dataframe thead th {\n",
       "        text-align: right;\n",
       "    }\n",
       "</style>\n",
       "<table border=\"1\" class=\"dataframe\">\n",
       "  <thead>\n",
       "    <tr style=\"text-align: right;\">\n",
       "      <th></th>\n",
       "      <th>label</th>\n",
       "      <th>pixel0</th>\n",
       "      <th>pixel1</th>\n",
       "      <th>pixel2</th>\n",
       "      <th>pixel3</th>\n",
       "      <th>pixel4</th>\n",
       "      <th>pixel5</th>\n",
       "      <th>pixel6</th>\n",
       "      <th>pixel7</th>\n",
       "      <th>pixel8</th>\n",
       "      <th>...</th>\n",
       "      <th>pixel774</th>\n",
       "      <th>pixel775</th>\n",
       "      <th>pixel776</th>\n",
       "      <th>pixel777</th>\n",
       "      <th>pixel778</th>\n",
       "      <th>pixel779</th>\n",
       "      <th>pixel780</th>\n",
       "      <th>pixel781</th>\n",
       "      <th>pixel782</th>\n",
       "      <th>pixel783</th>\n",
       "    </tr>\n",
       "  </thead>\n",
       "  <tbody>\n",
       "    <tr>\n",
       "      <th>0</th>\n",
       "      <td>1</td>\n",
       "      <td>0</td>\n",
       "      <td>0</td>\n",
       "      <td>0</td>\n",
       "      <td>0</td>\n",
       "      <td>0</td>\n",
       "      <td>0</td>\n",
       "      <td>0</td>\n",
       "      <td>0</td>\n",
       "      <td>0</td>\n",
       "      <td>...</td>\n",
       "      <td>0</td>\n",
       "      <td>0</td>\n",
       "      <td>0</td>\n",
       "      <td>0</td>\n",
       "      <td>0</td>\n",
       "      <td>0</td>\n",
       "      <td>0</td>\n",
       "      <td>0</td>\n",
       "      <td>0</td>\n",
       "      <td>0</td>\n",
       "    </tr>\n",
       "    <tr>\n",
       "      <th>1</th>\n",
       "      <td>0</td>\n",
       "      <td>0</td>\n",
       "      <td>0</td>\n",
       "      <td>0</td>\n",
       "      <td>0</td>\n",
       "      <td>0</td>\n",
       "      <td>0</td>\n",
       "      <td>0</td>\n",
       "      <td>0</td>\n",
       "      <td>0</td>\n",
       "      <td>...</td>\n",
       "      <td>0</td>\n",
       "      <td>0</td>\n",
       "      <td>0</td>\n",
       "      <td>0</td>\n",
       "      <td>0</td>\n",
       "      <td>0</td>\n",
       "      <td>0</td>\n",
       "      <td>0</td>\n",
       "      <td>0</td>\n",
       "      <td>0</td>\n",
       "    </tr>\n",
       "    <tr>\n",
       "      <th>2</th>\n",
       "      <td>1</td>\n",
       "      <td>0</td>\n",
       "      <td>0</td>\n",
       "      <td>0</td>\n",
       "      <td>0</td>\n",
       "      <td>0</td>\n",
       "      <td>0</td>\n",
       "      <td>0</td>\n",
       "      <td>0</td>\n",
       "      <td>0</td>\n",
       "      <td>...</td>\n",
       "      <td>0</td>\n",
       "      <td>0</td>\n",
       "      <td>0</td>\n",
       "      <td>0</td>\n",
       "      <td>0</td>\n",
       "      <td>0</td>\n",
       "      <td>0</td>\n",
       "      <td>0</td>\n",
       "      <td>0</td>\n",
       "      <td>0</td>\n",
       "    </tr>\n",
       "    <tr>\n",
       "      <th>3</th>\n",
       "      <td>4</td>\n",
       "      <td>0</td>\n",
       "      <td>0</td>\n",
       "      <td>0</td>\n",
       "      <td>0</td>\n",
       "      <td>0</td>\n",
       "      <td>0</td>\n",
       "      <td>0</td>\n",
       "      <td>0</td>\n",
       "      <td>0</td>\n",
       "      <td>...</td>\n",
       "      <td>0</td>\n",
       "      <td>0</td>\n",
       "      <td>0</td>\n",
       "      <td>0</td>\n",
       "      <td>0</td>\n",
       "      <td>0</td>\n",
       "      <td>0</td>\n",
       "      <td>0</td>\n",
       "      <td>0</td>\n",
       "      <td>0</td>\n",
       "    </tr>\n",
       "    <tr>\n",
       "      <th>4</th>\n",
       "      <td>0</td>\n",
       "      <td>0</td>\n",
       "      <td>0</td>\n",
       "      <td>0</td>\n",
       "      <td>0</td>\n",
       "      <td>0</td>\n",
       "      <td>0</td>\n",
       "      <td>0</td>\n",
       "      <td>0</td>\n",
       "      <td>0</td>\n",
       "      <td>...</td>\n",
       "      <td>0</td>\n",
       "      <td>0</td>\n",
       "      <td>0</td>\n",
       "      <td>0</td>\n",
       "      <td>0</td>\n",
       "      <td>0</td>\n",
       "      <td>0</td>\n",
       "      <td>0</td>\n",
       "      <td>0</td>\n",
       "      <td>0</td>\n",
       "    </tr>\n",
       "  </tbody>\n",
       "</table>\n",
       "<p>5 rows × 785 columns</p>\n",
       "</div>"
      ],
      "text/plain": [
       "   label  pixel0  pixel1  pixel2  pixel3  pixel4  pixel5  pixel6  pixel7  \\\n",
       "0      1       0       0       0       0       0       0       0       0   \n",
       "1      0       0       0       0       0       0       0       0       0   \n",
       "2      1       0       0       0       0       0       0       0       0   \n",
       "3      4       0       0       0       0       0       0       0       0   \n",
       "4      0       0       0       0       0       0       0       0       0   \n",
       "\n",
       "   pixel8  ...  pixel774  pixel775  pixel776  pixel777  pixel778  pixel779  \\\n",
       "0       0  ...         0         0         0         0         0         0   \n",
       "1       0  ...         0         0         0         0         0         0   \n",
       "2       0  ...         0         0         0         0         0         0   \n",
       "3       0  ...         0         0         0         0         0         0   \n",
       "4       0  ...         0         0         0         0         0         0   \n",
       "\n",
       "   pixel780  pixel781  pixel782  pixel783  \n",
       "0         0         0         0         0  \n",
       "1         0         0         0         0  \n",
       "2         0         0         0         0  \n",
       "3         0         0         0         0  \n",
       "4         0         0         0         0  \n",
       "\n",
       "[5 rows x 785 columns]"
      ]
     },
     "execution_count": 3,
     "metadata": {},
     "output_type": "execute_result"
    }
   ],
   "source": [
    "train_data = pd.read_csv('/kaggle/input/digit-recognizer/train.csv')\n",
    "test_data = pd.read_csv('/kaggle/input/digit-recognizer/test.csv')\n",
    "\n",
    "train_data.head()"
   ]
  },
  {
   "cell_type": "code",
   "execution_count": 4,
   "metadata": {
    "execution": {
     "iopub.execute_input": "2021-01-04T07:05:39.074943Z",
     "iopub.status.busy": "2021-01-04T07:05:39.074276Z",
     "iopub.status.idle": "2021-01-04T07:05:39.079504Z",
     "shell.execute_reply": "2021-01-04T07:05:39.078808Z"
    },
    "papermill": {
     "duration": 0.073335,
     "end_time": "2021-01-04T07:05:39.079637",
     "exception": false,
     "start_time": "2021-01-04T07:05:39.006302",
     "status": "completed"
    },
    "tags": []
   },
   "outputs": [
    {
     "name": "stdout",
     "output_type": "stream",
     "text": [
      "(42000,)\n",
      "(42000, 784)\n",
      "(28000, 784)\n"
     ]
    }
   ],
   "source": [
    "#\n",
    "y_train = train_data['label']\n",
    "x_train = train_data.drop(columns=['label'])\n",
    "\n",
    "print(y_train.shape)\n",
    "print(x_train.shape)\n",
    "print(test_data.shape)"
   ]
  },
  {
   "cell_type": "code",
   "execution_count": 5,
   "metadata": {
    "execution": {
     "iopub.execute_input": "2021-01-04T07:05:39.112854Z",
     "iopub.status.busy": "2021-01-04T07:05:39.112238Z",
     "iopub.status.idle": "2021-01-04T07:05:39.308609Z",
     "shell.execute_reply": "2021-01-04T07:05:39.307955Z"
    },
    "papermill": {
     "duration": 0.214413,
     "end_time": "2021-01-04T07:05:39.308711",
     "exception": false,
     "start_time": "2021-01-04T07:05:39.094298",
     "status": "completed"
    },
    "tags": []
   },
   "outputs": [
    {
     "data": {
      "image/png": "[encoded data removed]",
      "text/plain": [
       "<Figure size 432x288 with 1 Axes>"
      ]
     },
     "metadata": {
      "needs_background": "light"
     },
     "output_type": "display_data"
    }
   ],
   "source": [
    "label_distribution = sns.countplot(y_train)"
   ]
  },
  {
   "cell_type": "markdown",
   "metadata": {
    "papermill": {
     "duration": 0.014316,
     "end_time": "2021-01-04T07:05:39.338188",
     "exception": false,
     "start_time": "2021-01-04T07:05:39.323872",
     "status": "completed"
    },
    "tags": []
   },
   "source": [
    "## Data Preprocessing"
   ]
  },
  {
   "cell_type": "code",
   "execution_count": 6,
   "metadata": {
    "execution": {
     "iopub.execute_input": "2021-01-04T07:05:39.371572Z",
     "iopub.status.busy": "2021-01-04T07:05:39.370946Z",
     "iopub.status.idle": "2021-01-04T07:05:39.407440Z",
     "shell.execute_reply": "2021-01-04T07:05:39.406873Z"
    },
    "papermill": {
     "duration": 0.054862,
     "end_time": "2021-01-04T07:05:39.407537",
     "exception": false,
     "start_time": "2021-01-04T07:05:39.352675",
     "status": "completed"
    },
    "tags": []
   },
   "outputs": [
    {
     "data": {
      "text/plain": [
       "count       784\n",
       "unique        1\n",
       "top       False\n",
       "freq        784\n",
       "dtype: object"
      ]
     },
     "execution_count": 6,
     "metadata": {},
     "output_type": "execute_result"
    }
   ],
   "source": [
    "#Checking for missing values\n",
    "x_train.isnull().any().describe()"
   ]
  },
  {
   "cell_type": "code",
   "execution_count": 7,
   "metadata": {
    "execution": {
     "iopub.execute_input": "2021-01-04T07:05:39.442217Z",
     "iopub.status.busy": "2021-01-04T07:05:39.441629Z",
     "iopub.status.idle": "2021-01-04T07:05:39.455951Z",
     "shell.execute_reply": "2021-01-04T07:05:39.455421Z"
    },
    "papermill": {
     "duration": 0.033327,
     "end_time": "2021-01-04T07:05:39.456043",
     "exception": false,
     "start_time": "2021-01-04T07:05:39.422716",
     "status": "completed"
    },
    "tags": []
   },
   "outputs": [
    {
     "data": {
      "text/plain": [
       "count       784\n",
       "unique        1\n",
       "top       False\n",
       "freq        784\n",
       "dtype: object"
      ]
     },
     "execution_count": 7,
     "metadata": {},
     "output_type": "execute_result"
    }
   ],
   "source": [
    "test_data.isnull().any().describe()"
   ]
  },
  {
   "cell_type": "code",
   "execution_count": 8,
   "metadata": {
    "execution": {
     "iopub.execute_input": "2021-01-04T07:05:39.495903Z",
     "iopub.status.busy": "2021-01-04T07:05:39.495004Z",
     "iopub.status.idle": "2021-01-04T07:05:39.581291Z",
     "shell.execute_reply": "2021-01-04T07:05:39.580636Z"
    },
    "papermill": {
     "duration": 0.10901,
     "end_time": "2021-01-04T07:05:39.581425",
     "exception": false,
     "start_time": "2021-01-04T07:05:39.472415",
     "status": "completed"
    },
    "tags": []
   },
   "outputs": [],
   "source": [
    "#Normalizing the data\n",
    "x_train = x_train/255.0\n",
    "test_data = test_data/255.0\n",
    "\n",
    "#Reshaping image to 3D\n",
    "x_train = x_train.values.reshape(-1,28,28,1)\n",
    "x_test = test_data.values.reshape(-1,28,28,1)"
   ]
  },
  {
   "cell_type": "code",
   "execution_count": 9,
   "metadata": {
    "execution": {
     "iopub.execute_input": "2021-01-04T07:05:39.637119Z",
     "iopub.status.busy": "2021-01-04T07:05:39.636485Z",
     "iopub.status.idle": "2021-01-04T07:05:39.746103Z",
     "shell.execute_reply": "2021-01-04T07:05:39.745377Z"
    },
    "papermill": {
     "duration": 0.148363,
     "end_time": "2021-01-04T07:05:39.746223",
     "exception": false,
     "start_time": "2021-01-04T07:05:39.597860",
     "status": "completed"
    },
    "tags": []
   },
   "outputs": [
    {
     "data": {
      "image/png": "[encoded data removed]",
      "text/plain": [
       "<Figure size 432x288 with 3 Axes>"
      ]
     },
     "metadata": {},
     "output_type": "display_data"
    }
   ],
   "source": [
    "#Examples of the data\n",
    "for i in range(1,4):\n",
    "    plt.subplot(3,3,i)\n",
    "    plt.xticks([])\n",
    "    plt.yticks([])\n",
    "    plt.imshow(x_train[i][:,:,0],cmap='gray')\n",
    "    plt.title(y_train[i]);\n"
   ]
  },
  {
   "cell_type": "markdown",
   "metadata": {
    "papermill": {
     "duration": 0.024348,
     "end_time": "2021-01-04T07:05:39.795186",
     "exception": false,
     "start_time": "2021-01-04T07:05:39.770838",
     "status": "completed"
    },
    "tags": []
   },
   "source": [
    "# **Building The Model**"
   ]
  },
  {
   "cell_type": "code",
   "execution_count": 10,
   "metadata": {
    "execution": {
     "iopub.execute_input": "2021-01-04T07:05:39.855049Z",
     "iopub.status.busy": "2021-01-04T07:05:39.854190Z",
     "iopub.status.idle": "2021-01-04T07:05:40.028924Z",
     "shell.execute_reply": "2021-01-04T07:05:40.028069Z"
    },
    "papermill": {
     "duration": 0.209061,
     "end_time": "2021-01-04T07:05:40.029064",
     "exception": false,
     "start_time": "2021-01-04T07:05:39.820003",
     "status": "completed"
    },
    "tags": []
   },
   "outputs": [
    {
     "name": "stdout",
     "output_type": "stream",
     "text": [
      "Model: \"sequential\"\n",
      "_________________________________________________________________\n",
      "Layer (type)                 Output Shape              Param #   \n",
      "=================================================================\n",
      "conv2d (Conv2D)              (None, 26, 26, 32)        320       \n",
      "_________________________________________________________________\n",
      "max_pooling2d (MaxPooling2D) (None, 13, 13, 32)        0         \n",
      "_________________________________________________________________\n",
      "conv2d_1 (Conv2D)            (None, 11, 11, 64)        18496     \n",
      "_________________________________________________________________\n",
      "max_pooling2d_1 (MaxPooling2 (None, 5, 5, 64)          0         \n",
      "_________________________________________________________________\n",
      "flatten (Flatten)            (None, 1600)              0         \n",
      "_________________________________________________________________\n",
      "dense (Dense)                (None, 256)               409856    \n",
      "_________________________________________________________________\n",
      "dropout (Dropout)            (None, 256)               0         \n",
      "_________________________________________________________________\n",
      "dense_1 (Dense)              (None, 10)                2570      \n",
      "=================================================================\n",
      "Total params: 431,242\n",
      "Trainable params: 431,242\n",
      "Non-trainable params: 0\n",
      "_________________________________________________________________\n"
     ]
    }
   ],
   "source": [
    "model=keras.models.Sequential([\n",
    "    keras.layers.Conv2D(32,kernel_size=(3,3),input_shape=(28,28,1),activation='relu'),\n",
    "    keras.layers.MaxPooling2D((2,2)),\n",
    "    \n",
    "    keras.layers.Conv2D(64,kernel_size=(3,3),activation='relu'),\n",
    "    keras.layers.MaxPooling2D((2,2)),\n",
    "    \n",
    "    keras.layers.Flatten(),\n",
    "    keras.layers.Dense(256,activation='relu'),\n",
    "    keras.layers.Dropout(0.5),\n",
    "    keras.layers.Dense(10,activation='softmax')\n",
    "    ])\n",
    "\n",
    "model.compile(optimizer='adam',loss='sparse_categorical_crossentropy',metrics=['accuracy'])\n",
    "\n",
    "model.summary()"
   ]
  },
  {
   "cell_type": "code",
   "execution_count": 11,
   "metadata": {
    "execution": {
     "iopub.execute_input": "2021-01-04T07:05:40.070537Z",
     "iopub.status.busy": "2021-01-04T07:05:40.069862Z",
     "iopub.status.idle": "2021-01-04T07:06:41.536300Z",
     "shell.execute_reply": "2021-01-04T07:06:41.537139Z"
    },
    "papermill": {
     "duration": 61.490489,
     "end_time": "2021-01-04T07:06:41.537346",
     "exception": false,
     "start_time": "2021-01-04T07:05:40.046857",
     "status": "completed"
    },
    "tags": []
   },
   "outputs": [
    {
     "name": "stdout",
     "output_type": "stream",
     "text": [
      "Epoch 1/3\n",
      "1050/1050 [==============================] - 20s 19ms/step - loss: 0.2262 - accuracy: 0.9301 - val_loss: 0.0546 - val_accuracy: 0.9829\n",
      "Epoch 2/3\n",
      "1050/1050 [==============================] - 20s 19ms/step - loss: 0.0781 - accuracy: 0.9761 - val_loss: 0.0395 - val_accuracy: 0.9874\n",
      "Epoch 3/3\n",
      "1050/1050 [==============================] - 20s 19ms/step - loss: 0.0560 - accuracy: 0.9824 - val_loss: 0.0369 - val_accuracy: 0.9885\n"
     ]
    }
   ],
   "source": [
    "#Fitting the model\n",
    "history = model.fit(x_train,y_train,epochs=3,validation_split=0.2)"
   ]
  },
  {
   "cell_type": "code",
   "execution_count": 12,
   "metadata": {
    "execution": {
     "iopub.execute_input": "2021-01-04T07:06:42.254847Z",
     "iopub.status.busy": "2021-01-04T07:06:42.254046Z",
     "iopub.status.idle": "2021-01-04T07:06:42.259353Z",
     "shell.execute_reply": "2021-01-04T07:06:42.260036Z"
    },
    "papermill": {
     "duration": 0.365139,
     "end_time": "2021-01-04T07:06:42.260230",
     "exception": false,
     "start_time": "2021-01-04T07:06:41.895091",
     "status": "completed"
    },
    "tags": []
   },
   "outputs": [
    {
     "name": "stdout",
     "output_type": "stream",
     "text": [
      "Model's validation accuracy: 98.845%\n"
     ]
    }
   ],
   "source": [
    "print(\"Model's validation accuracy: {:.3f}%\".format(history.history['val_accuracy'][2]*100))"
   ]
  },
  {
   "cell_type": "code",
   "execution_count": 13,
   "metadata": {
    "execution": {
     "iopub.execute_input": "2021-01-04T07:06:42.963522Z",
     "iopub.status.busy": "2021-01-04T07:06:42.962867Z",
     "iopub.status.idle": "2021-01-04T07:06:47.616997Z",
     "shell.execute_reply": "2021-01-04T07:06:47.617672Z"
    },
    "papermill": {
     "duration": 5.008394,
     "end_time": "2021-01-04T07:06:47.617820",
     "exception": false,
     "start_time": "2021-01-04T07:06:42.609426",
     "status": "completed"
    },
    "tags": []
   },
   "outputs": [],
   "source": [
    "#Obtaining the model's predictions\n",
    "predictions = model.predict([x_test])\n",
    "y_pred = np.argmax(predictions,axis = 1) "
   ]
  },
  {
   "cell_type": "code",
   "execution_count": 14,
   "metadata": {
    "execution": {
     "iopub.execute_input": "2021-01-04T07:06:48.326801Z",
     "iopub.status.busy": "2021-01-04T07:06:48.325933Z",
     "iopub.status.idle": "2021-01-04T07:06:48.437914Z",
     "shell.execute_reply": "2021-01-04T07:06:48.438439Z"
    },
    "papermill": {
     "duration": 0.469275,
     "end_time": "2021-01-04T07:06:48.438586",
     "exception": false,
     "start_time": "2021-01-04T07:06:47.969311",
     "status": "completed"
    },
    "tags": []
   },
   "outputs": [
    {
     "data": {
      "image/png": "[encoded data removed]",
      "text/plain": [
       "<Figure size 432x288 with 3 Axes>"
      ]
     },
     "metadata": {},
     "output_type": "display_data"
    }
   ],
   "source": [
    "#Visualizing the model's predictions\n",
    "for i in range(1,4):\n",
    "    plt.subplot(3,3,i)\n",
    "    plt.xticks([])\n",
    "    plt.yticks([])\n",
    "    plt.imshow(x_test[i][:,:,0],cmap='gray')\n",
    "    plt.title(y_pred[i]);"
   ]
  },
  {
   "cell_type": "code",
   "execution_count": 15,
   "metadata": {
    "execution": {
     "iopub.execute_input": "2021-01-04T07:06:49.172540Z",
     "iopub.status.busy": "2021-01-04T07:06:49.171624Z",
     "iopub.status.idle": "2021-01-04T07:06:49.434871Z",
     "shell.execute_reply": "2021-01-04T07:06:49.434273Z"
    },
    "papermill": {
     "duration": 0.617758,
     "end_time": "2021-01-04T07:06:49.434987",
     "exception": false,
     "start_time": "2021-01-04T07:06:48.817229",
     "status": "completed"
    },
    "tags": []
   },
   "outputs": [],
   "source": [
    "#Geberate submission df\n",
    "submissions=pd.DataFrame({\"ImageId\": list(range(1,len(y_pred)+1)), \"Label\": y_pred})\n",
    "\n",
    "# Generate csv file\n",
    "submissions.to_csv(\"submission.csv\", index=False, header=True)"
   ]
  }
 ],
 "metadata": {
  "kernelspec": {
   "display_name": "Python 3",
   "language": "python",
   "name": "python3"
  },
  "language_info": {
   "codemirror_mode": {
    "name": "ipython",
    "version": 3
   },
   "file_extension": ".py",
   "mimetype": "text/x-python",
   "name": "python",
   "nbconvert_exporter": "python",
   "pygments_lexer": "ipython3",
   "version": "3.7.7"
  },
  "papermill": {
   "duration": 87.293273,
   "end_time": "2021-01-04T07:06:49.904117",
   "environment_variables": {},
   "exception": null,
   "input_path": "__notebook__.ipynb",
   "output_path": "__notebook__.ipynb",
   "parameters": {},
   "start_time": "2021-01-04T07:05:22.610844",
   "version": "2.1.0"
  }
 },
 "nbformat": 4,
 "nbformat_minor": 4
}
