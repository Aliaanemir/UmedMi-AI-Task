{
 "cells": [
  {
   "cell_type": "code",
   "execution_count": 1,
   "metadata": {
    "_cell_guid": "b1076dfc-b9ad-4769-8c92-a6c4dae69d19",
    "_uuid": "8f2839f25d086af736a60e9eeb907d3b93b6e0e5",
    "execution": {
     "iopub.execute_input": "2021-01-03T23:00:04.370571Z",
     "iopub.status.busy": "2021-01-03T23:00:04.369856Z",
     "iopub.status.idle": "2021-01-03T23:00:04.386876Z",
     "shell.execute_reply": "2021-01-03T23:00:04.387461Z"
    },
    "papermill": {
     "duration": 0.038836,
     "end_time": "2021-01-03T23:00:04.387635",
     "exception": false,
     "start_time": "2021-01-03T23:00:04.348799",
     "status": "completed"
    },
    "tags": []
   },
   "outputs": [
    {
     "name": "stdout",
     "output_type": "stream",
     "text": [
      "/kaggle/input/fake-and-real-news-dataset/True.csv\n",
      "/kaggle/input/fake-and-real-news-dataset/Fake.csv\n"
     ]
    }
   ],
   "source": [
    "# This Python 3 environment comes with many helpful analytics libraries installed\n",
    "# It is defined by the kaggle/python Docker image: https://github.com/kaggle/docker-python\n",
    "# For example, here's several helpful packages to load\n",
    "\n",
    "import numpy as np # linear algebra\n",
    "import pandas as pd # data processing, CSV file I/O (e.g. pd.read_csv)\n",
    "\n",
    "# Input data files are available in the read-only \"../input/\" directory\n",
    "# For} example, running this (by clicking run or pressing Shift+Enter) will list all files under the input directory\n",
    "\n",
    "import os\n",
    "for dirname, _, filenames in os.walk('/kaggle/input'):\n",
    "    for filename in filenames:\n",
    "        print(os.path.join(dirname, filename))\n",
    "\n",
    "# You can write up to 20GB to the current directory (/kaggle/working/) that gets preserved as output when you create a version using \"Save & Run All\" \n",
    "# You can also write temporary files to /kaggle/temp/, but they won't be saved outside of the current session"
   ]
  },
  {
   "cell_type": "code",
   "execution_count": 2,
   "metadata": {
    "execution": {
     "iopub.execute_input": "2021-01-03T23:00:04.426940Z",
     "iopub.status.busy": "2021-01-03T23:00:04.426265Z",
     "iopub.status.idle": "2021-01-03T23:00:12.017653Z",
     "shell.execute_reply": "2021-01-03T23:00:12.018196Z"
    },
    "papermill": {
     "duration": 7.612618,
     "end_time": "2021-01-03T23:00:12.018345",
     "exception": false,
     "start_time": "2021-01-03T23:00:04.405727",
     "status": "completed"
    },
    "tags": []
   },
   "outputs": [],
   "source": [
    "import pandas as pd \n",
    "import matplotlib.pyplot as plt \n",
    "import numpy as np \n",
    "import re\n",
    "import string\n",
    "import pickle\n",
    "\n",
    "%matplotlib inline\n",
    "\n",
    "from nltk.corpus import stopwords\n",
    "from nltk.stem.porter import PorterStemmer\n",
    "from nltk.stem.wordnet import WordNetLemmatizer\n",
    "\n",
    "import tensorflow as tf \n",
    "import tensorflow.keras.preprocessing\n",
    "from tensorflow import keras\n",
    "from tensorflow.keras.preprocessing.text import Tokenizer\n",
    "\n",
    "from keras.models import Sequential\n",
    "from keras.layers import Dense,Embedding,LSTM,Dropout\n",
    "from keras.callbacks import ReduceLROnPlateau\n",
    "import tensorflow as tf\n",
    "\n",
    "from sklearn.metrics import accuracy_score\n",
    "from sklearn.model_selection import train_test_split\n",
    "from sklearn.metrics import accuracy_score, confusion_matrix\n",
    "import seaborn as sns "
   ]
  },
  {
   "cell_type": "markdown",
   "metadata": {
    "papermill": {
     "duration": 0.017257,
     "end_time": "2021-01-03T23:00:12.053290",
     "exception": false,
     "start_time": "2021-01-03T23:00:12.036033",
     "status": "completed"
    },
    "tags": []
   },
   "source": [
    "# Loading the Data"
   ]
  },
  {
   "cell_type": "code",
   "execution_count": 3,
   "metadata": {
    "_cell_guid": "79c7e3d0-c299-4dcb-8224-4455121ee9b0",
    "_uuid": "d629ff2d2480ee46fbb7e2d37f6b5fab8052498a",
    "execution": {
     "iopub.execute_input": "2021-01-03T23:00:12.101969Z",
     "iopub.status.busy": "2021-01-03T23:00:12.101317Z",
     "iopub.status.idle": "2021-01-03T23:00:14.459259Z",
     "shell.execute_reply": "2021-01-03T23:00:14.458686Z"
    },
    "papermill": {
     "duration": 2.388565,
     "end_time": "2021-01-03T23:00:14.459383",
     "exception": false,
     "start_time": "2021-01-03T23:00:12.070818",
     "status": "completed"
    },
    "tags": []
   },
   "outputs": [],
   "source": [
    "true = pd.read_csv('/kaggle/input/fake-and-real-news-dataset/True.csv')\n",
    "fake = pd.read_csv('/kaggle/input/fake-and-real-news-dataset/Fake.csv')\n",
    "\n"
   ]
  },
  {
   "cell_type": "markdown",
   "metadata": {
    "papermill": {
     "duration": 0.01727,
     "end_time": "2021-01-03T23:00:14.494802",
     "exception": false,
     "start_time": "2021-01-03T23:00:14.477532",
     "status": "completed"
    },
    "tags": []
   },
   "source": [
    "# Exploring Data"
   ]
  },
  {
   "cell_type": "code",
   "execution_count": 4,
   "metadata": {
    "execution": {
     "iopub.execute_input": "2021-01-03T23:00:14.538301Z",
     "iopub.status.busy": "2021-01-03T23:00:14.537644Z",
     "iopub.status.idle": "2021-01-03T23:00:14.712732Z",
     "shell.execute_reply": "2021-01-03T23:00:14.713282Z"
    },
    "papermill": {
     "duration": 0.201128,
     "end_time": "2021-01-03T23:00:14.713430",
     "exception": false,
     "start_time": "2021-01-03T23:00:14.512302",
     "status": "completed"
    },
    "tags": []
   },
   "outputs": [
    {
     "data": {
      "text/plain": [
       "Text(0, 0.5, '# of News Articles')"
      ]
     },
     "execution_count": 4,
     "metadata": {},
     "output_type": "execute_result"
    },
    {
     "data": {
      "image/png": "[encoded data removed]",
      "text/plain": [
       "<Figure size 720x360 with 1 Axes>"
      ]
     },
     "metadata": {
      "needs_background": "light"
     },
     "output_type": "display_data"
    }
   ],
   "source": [
    "plt.figure(figsize=(10, 5))\n",
    "plt.bar('Fake News', len(fake), color='orange')\n",
    "plt.bar('Real News', len(true), color='green')\n",
    "plt.title('Distribution of Fake News and Real News', size=15)\n",
    "plt.xlabel('News Type', size=15)\n",
    "plt.ylabel('# of News Articles', size=15)"
   ]
  },
  {
   "cell_type": "code",
   "execution_count": 5,
   "metadata": {
    "execution": {
     "iopub.execute_input": "2021-01-03T23:00:14.755703Z",
     "iopub.status.busy": "2021-01-03T23:00:14.754693Z",
     "iopub.status.idle": "2021-01-03T23:00:14.772372Z",
     "shell.execute_reply": "2021-01-03T23:00:14.771741Z"
    },
    "papermill": {
     "duration": 0.039766,
     "end_time": "2021-01-03T23:00:14.772486",
     "exception": false,
     "start_time": "2021-01-03T23:00:14.732720",
     "status": "completed"
    },
    "tags": []
   },
   "outputs": [],
   "source": [
    "true['category'] = 1\n",
    "fake['category'] = 0\n",
    "\n",
    "news = pd.concat([true,fake], ignore_index=True)"
   ]
  },
  {
   "cell_type": "code",
   "execution_count": 6,
   "metadata": {
    "execution": {
     "iopub.execute_input": "2021-01-03T23:00:14.815065Z",
     "iopub.status.busy": "2021-01-03T23:00:14.814090Z",
     "iopub.status.idle": "2021-01-03T23:00:14.844344Z",
     "shell.execute_reply": "2021-01-03T23:00:14.844878Z"
    },
    "papermill": {
     "duration": 0.053097,
     "end_time": "2021-01-03T23:00:14.845033",
     "exception": false,
     "start_time": "2021-01-03T23:00:14.791936",
     "status": "completed"
    },
    "tags": []
   },
   "outputs": [
    {
     "data": {
      "text/plain": [
       "title       0\n",
       "text        0\n",
       "subject     0\n",
       "date        0\n",
       "category    0\n",
       "dtype: int64"
      ]
     },
     "execution_count": 6,
     "metadata": {},
     "output_type": "execute_result"
    }
   ],
   "source": [
    "#Missing values\n",
    "news.isnull().sum()"
   ]
  },
  {
   "cell_type": "code",
   "execution_count": 7,
   "metadata": {
    "execution": {
     "iopub.execute_input": "2021-01-03T23:00:14.890613Z",
     "iopub.status.busy": "2021-01-03T23:00:14.889495Z",
     "iopub.status.idle": "2021-01-03T23:00:14.894194Z",
     "shell.execute_reply": "2021-01-03T23:00:14.893630Z"
    },
    "papermill": {
     "duration": 0.029805,
     "end_time": "2021-01-03T23:00:14.894312",
     "exception": false,
     "start_time": "2021-01-03T23:00:14.864507",
     "status": "completed"
    },
    "tags": []
   },
   "outputs": [
    {
     "data": {
      "text/plain": [
       "Index(['title', 'text', 'subject', 'date', 'category'], dtype='object')"
      ]
     },
     "execution_count": 7,
     "metadata": {},
     "output_type": "execute_result"
    }
   ],
   "source": [
    "news.columns"
   ]
  },
  {
   "cell_type": "markdown",
   "metadata": {
    "papermill": {
     "duration": 0.019822,
     "end_time": "2021-01-03T23:00:14.934746",
     "exception": false,
     "start_time": "2021-01-03T23:00:14.914924",
     "status": "completed"
    },
    "tags": []
   },
   "source": [
    "# Data Preprocessing "
   ]
  },
  {
   "cell_type": "code",
   "execution_count": 8,
   "metadata": {
    "execution": {
     "iopub.execute_input": "2021-01-03T23:00:14.981682Z",
     "iopub.status.busy": "2021-01-03T23:00:14.980961Z",
     "iopub.status.idle": "2021-01-03T23:00:15.288658Z",
     "shell.execute_reply": "2021-01-03T23:00:15.287932Z"
    },
    "papermill": {
     "duration": 0.334084,
     "end_time": "2021-01-03T23:00:15.288791",
     "exception": false,
     "start_time": "2021-01-03T23:00:14.954707",
     "status": "completed"
    },
    "tags": []
   },
   "outputs": [],
   "source": [
    "#Concatinating the title and text to produce one string \n",
    "news['text'] = news['text'] + \" \" + news['title']\n",
    "\n",
    "#Removing the date, subject and title to decrease the model's bias\n",
    "news.drop(['date','subject','title'], axis=1, inplace=True)\n"
   ]
  },
  {
   "cell_type": "markdown",
   "metadata": {
    "papermill": {
     "duration": 0.020025,
     "end_time": "2021-01-03T23:00:15.329484",
     "exception": false,
     "start_time": "2021-01-03T23:00:15.309459",
     "status": "completed"
    },
    "tags": []
   },
   "source": [
    "## Preparing the string\n",
    "* Casing\n",
    "* Noise Removal\n",
    "* Tokenization\n",
    "* Stopword Removal\n",
    "* Text Normalization"
   ]
  },
  {
   "cell_type": "code",
   "execution_count": 9,
   "metadata": {
    "execution": {
     "iopub.execute_input": "2021-01-03T23:00:15.380619Z",
     "iopub.status.busy": "2021-01-03T23:00:15.379766Z",
     "iopub.status.idle": "2021-01-03T23:00:15.382588Z",
     "shell.execute_reply": "2021-01-03T23:00:15.382114Z"
    },
    "papermill": {
     "duration": 0.032597,
     "end_time": "2021-01-03T23:00:15.382695",
     "exception": false,
     "start_time": "2021-01-03T23:00:15.350098",
     "status": "completed"
    },
    "tags": []
   },
   "outputs": [],
   "source": [
    "def clean_text(text):\n",
    "    \n",
    "    #convert all text to lower case\n",
    "    text = text.lower()\n",
    "    \n",
    "    #remove any URL\n",
    "    text = re.sub('https://\\S+|www\\.\\S+', '', text, flags=re.MULTILINE)\n",
    "    \n",
    "    #remove punctuation\n",
    "    text = text.translate(str.maketrans(\"\", \"\",string.punctuation))\n",
    "    \n",
    "    #remove stopwords\n",
    "    text_tokens = word_tokenize(text)\n",
    "    filtered_words = [word for word in text_tokens if word not in stopwords.words('english')]\n",
    "    \n",
    "    #stemming\n",
    "    ps = PorterStemmer()\n",
    "    stemmed_words = [ps.stem(word) for word in filtered_words]\n",
    "    \n",
    "    #lemmatizing\n",
    "    lemmatizer = WordNetLemmatizer()\n",
    "    lemma_words = [lemmatizer.lemmatize(word, pos='a') for word in stemmed_words]\n",
    "    \n",
    "    return \" \".join(filtered_words)\n",
    "\n",
    "\n",
    "    "
   ]
  },
  {
   "cell_type": "code",
   "execution_count": 10,
   "metadata": {
    "execution": {
     "iopub.execute_input": "2021-01-03T23:00:15.431093Z",
     "iopub.status.busy": "2021-01-03T23:00:15.429406Z",
     "iopub.status.idle": "2021-01-03T23:52:38.056820Z",
     "shell.execute_reply": "2021-01-03T23:52:38.056201Z"
    },
    "papermill": {
     "duration": 3142.654087,
     "end_time": "2021-01-03T23:52:38.056948",
     "exception": false,
     "start_time": "2021-01-03T23:00:15.402861",
     "status": "completed"
    },
    "tags": []
   },
   "outputs": [],
   "source": [
    "#Text cleaning\n",
    "news['text'] = news['text'].apply(clean_text)\n"
   ]
  },
  {
   "cell_type": "code",
   "execution_count": 11,
   "metadata": {
    "execution": {
     "iopub.execute_input": "2021-01-03T23:52:38.104184Z",
     "iopub.status.busy": "2021-01-03T23:52:38.103478Z",
     "iopub.status.idle": "2021-01-03T23:52:38.581667Z",
     "shell.execute_reply": "2021-01-03T23:52:38.581091Z"
    },
    "papermill": {
     "duration": 0.503117,
     "end_time": "2021-01-03T23:52:38.581782",
     "exception": false,
     "start_time": "2021-01-03T23:52:38.078665",
     "status": "completed"
    },
    "tags": []
   },
   "outputs": [],
   "source": [
    "#Saving the cleaned dataframe, to reduce the time of preprocessing for several runs\n",
    "news.to_pickle(\"corpus.pkl\")"
   ]
  },
  {
   "cell_type": "code",
   "execution_count": 12,
   "metadata": {
    "execution": {
     "iopub.execute_input": "2021-01-03T23:52:38.628635Z",
     "iopub.status.busy": "2021-01-03T23:52:38.627736Z",
     "iopub.status.idle": "2021-01-03T23:52:38.630247Z",
     "shell.execute_reply": "2021-01-03T23:52:38.629719Z"
    },
    "papermill": {
     "duration": 0.027727,
     "end_time": "2021-01-03T23:52:38.630354",
     "exception": false,
     "start_time": "2021-01-03T23:52:38.602627",
     "status": "completed"
    },
    "tags": []
   },
   "outputs": [],
   "source": [
    "#news = pd.read_pickle(\"./corpus.pkl\")"
   ]
  },
  {
   "cell_type": "code",
   "execution_count": 13,
   "metadata": {
    "execution": {
     "iopub.execute_input": "2021-01-03T23:52:38.678339Z",
     "iopub.status.busy": "2021-01-03T23:52:38.677486Z",
     "iopub.status.idle": "2021-01-03T23:52:38.680570Z",
     "shell.execute_reply": "2021-01-03T23:52:38.680037Z"
    },
    "papermill": {
     "duration": 0.028694,
     "end_time": "2021-01-03T23:52:38.680691",
     "exception": false,
     "start_time": "2021-01-03T23:52:38.651997",
     "status": "completed"
    },
    "tags": []
   },
   "outputs": [],
   "source": [
    "#tokenization parameters\n",
    "max_len = 500\n",
    "max_features = 10000"
   ]
  },
  {
   "cell_type": "code",
   "execution_count": 14,
   "metadata": {
    "execution": {
     "iopub.execute_input": "2021-01-03T23:52:38.757133Z",
     "iopub.status.busy": "2021-01-03T23:52:38.751995Z",
     "iopub.status.idle": "2021-01-03T23:53:08.782321Z",
     "shell.execute_reply": "2021-01-03T23:53:08.783075Z"
    },
    "papermill": {
     "duration": 30.081454,
     "end_time": "2021-01-03T23:53:08.783238",
     "exception": false,
     "start_time": "2021-01-03T23:52:38.701784",
     "status": "completed"
    },
    "tags": []
   },
   "outputs": [],
   "source": [
    "tokenizer = Tokenizer(num_words = max_features)\n",
    "tokenizer.fit_on_texts(news['text'])\n",
    "sequence = tokenizer.texts_to_sequences(news['text'])\n"
   ]
  },
  {
   "cell_type": "code",
   "execution_count": 15,
   "metadata": {
    "execution": {
     "iopub.execute_input": "2021-01-03T23:53:08.840690Z",
     "iopub.status.busy": "2021-01-03T23:53:08.839951Z",
     "iopub.status.idle": "2021-01-03T23:53:11.253840Z",
     "shell.execute_reply": "2021-01-03T23:53:11.253308Z"
    },
    "papermill": {
     "duration": 2.449324,
     "end_time": "2021-01-03T23:53:11.253973",
     "exception": false,
     "start_time": "2021-01-03T23:53:08.804649",
     "status": "completed"
    },
    "tags": []
   },
   "outputs": [],
   "source": [
    "x = tf.keras.preprocessing.sequence.pad_sequences(sequence, maxlen = max_len)"
   ]
  },
  {
   "cell_type": "code",
   "execution_count": 16,
   "metadata": {
    "execution": {
     "iopub.execute_input": "2021-01-03T23:53:11.306986Z",
     "iopub.status.busy": "2021-01-03T23:53:11.305909Z",
     "iopub.status.idle": "2021-01-03T23:53:11.398416Z",
     "shell.execute_reply": "2021-01-03T23:53:11.397778Z"
    },
    "papermill": {
     "duration": 0.122948,
     "end_time": "2021-01-03T23:53:11.398569",
     "exception": false,
     "start_time": "2021-01-03T23:53:11.275621",
     "status": "completed"
    },
    "tags": []
   },
   "outputs": [],
   "source": [
    "#Data splitting\n",
    "x_train_val,x_test,y_train_val,y_test = train_test_split(x,news.category,test_size=0.2,random_state = 0)\n",
    "\n",
    "x_train,x_val,y_train,y_val = train_test_split(x_train_val,y_train_val,test_size=0.25,random_state = 0)"
   ]
  },
  {
   "cell_type": "code",
   "execution_count": 17,
   "metadata": {
    "execution": {
     "iopub.execute_input": "2021-01-03T23:53:11.451971Z",
     "iopub.status.busy": "2021-01-03T23:53:11.451280Z",
     "iopub.status.idle": "2021-01-03T23:53:12.152273Z",
     "shell.execute_reply": "2021-01-03T23:53:12.151333Z"
    },
    "papermill": {
     "duration": 0.732276,
     "end_time": "2021-01-03T23:53:12.152463",
     "exception": false,
     "start_time": "2021-01-03T23:53:11.420187",
     "status": "completed"
    },
    "tags": []
   },
   "outputs": [
    {
     "name": "stdout",
     "output_type": "stream",
     "text": [
      "Model: \"sequential\"\n",
      "_________________________________________________________________\n",
      "Layer (type)                 Output Shape              Param #   \n",
      "=================================================================\n",
      "embedding (Embedding)        (None, None, 32)          320000    \n",
      "_________________________________________________________________\n",
      "lstm (LSTM)                  (None, None, 128)         82432     \n",
      "_________________________________________________________________\n",
      "lstm_1 (LSTM)                (None, 64)                49408     \n",
      "_________________________________________________________________\n",
      "dense (Dense)                (None, 32)                2080      \n",
      "_________________________________________________________________\n",
      "dense_1 (Dense)              (None, 1)                 33        \n",
      "=================================================================\n",
      "Total params: 453,953\n",
      "Trainable params: 453,953\n",
      "Non-trainable params: 0\n",
      "_________________________________________________________________\n"
     ]
    }
   ],
   "source": [
    "#Defining Neural Network\n",
    "model = Sequential()\n",
    "\n",
    "#Embeddidng layer\n",
    "model.add(Embedding(max_features, 32))\n",
    "\n",
    "#LSTM \n",
    "model.add(LSTM(units=128 , return_sequences = True , recurrent_dropout = 0.25 , dropout = 0.25))\n",
    "model.add(LSTM(units=64 , recurrent_dropout = 0.1 , dropout = 0.1))\n",
    "\n",
    "#Dense layer \n",
    "model.add(Dense(units = 32 , activation = 'relu'))\n",
    "model.add(Dense(1, activation='sigmoid'))\n",
    "\n",
    "model.summary()\n",
    "\n",
    "#Model Compilation\n",
    "model.compile(optimizer='adam', loss='binary_crossentropy', metrics=['accuracy'])\n",
    "\n"
   ]
  },
  {
   "cell_type": "code",
   "execution_count": 18,
   "metadata": {
    "execution": {
     "iopub.execute_input": "2021-01-03T23:53:12.204763Z",
     "iopub.status.busy": "2021-01-03T23:53:12.204124Z",
     "iopub.status.idle": "2021-01-04T01:44:03.971266Z",
     "shell.execute_reply": "2021-01-04T01:44:03.971897Z"
    },
    "papermill": {
     "duration": 6651.795548,
     "end_time": "2021-01-04T01:44:03.972136",
     "exception": false,
     "start_time": "2021-01-03T23:53:12.176588",
     "status": "completed"
    },
    "tags": []
   },
   "outputs": [
    {
     "name": "stdout",
     "output_type": "stream",
     "text": [
      "Epoch 1/5\n",
      "842/842 [==============================] - 1301s 2s/step - loss: 0.0995 - accuracy: 0.9582 - val_loss: 0.0380 - val_accuracy: 0.9870\n",
      "Epoch 2/5\n",
      "842/842 [==============================] - 1323s 2s/step - loss: 0.0192 - accuracy: 0.9938 - val_loss: 0.0300 - val_accuracy: 0.9905\n",
      "Epoch 3/5\n",
      "842/842 [==============================] - 1341s 2s/step - loss: 0.0115 - accuracy: 0.9961 - val_loss: 0.0329 - val_accuracy: 0.9884\n",
      "Epoch 4/5\n",
      "842/842 [==============================] - 1320s 2s/step - loss: 0.0041 - accuracy: 0.9986 - val_loss: 0.0242 - val_accuracy: 0.9930\n",
      "Epoch 5/5\n",
      "842/842 [==============================] - 1350s 2s/step - loss: 0.0075 - accuracy: 0.9977 - val_loss: 0.0329 - val_accuracy: 0.9899\n"
     ]
    }
   ],
   "source": [
    "history = model.fit(x_train, y_train, epochs = 5, validation_data= (x_val, y_val))"
   ]
  },
  {
   "cell_type": "code",
   "execution_count": 19,
   "metadata": {
    "execution": {
     "iopub.execute_input": "2021-01-04T01:44:06.910297Z",
     "iopub.status.busy": "2021-01-04T01:44:06.909597Z",
     "iopub.status.idle": "2021-01-04T01:45:32.121874Z",
     "shell.execute_reply": "2021-01-04T01:45:32.121298Z"
    },
    "papermill": {
     "duration": 86.700235,
     "end_time": "2021-01-04T01:45:32.122060",
     "exception": false,
     "start_time": "2021-01-04T01:44:05.421825",
     "status": "completed"
    },
    "tags": []
   },
   "outputs": [
    {
     "name": "stdout",
     "output_type": "stream",
     "text": [
      "281/281 [==============================] - 43s 153ms/step - loss: 0.0362 - accuracy: 0.9892\n"
     ]
    }
   ],
   "source": [
    "y_pred=model.predict_classes(x_test)\n",
    "\n",
    "results = model.evaluate(x_test, y_test)"
   ]
  },
  {
   "cell_type": "code",
   "execution_count": 20,
   "metadata": {
    "execution": {
     "iopub.execute_input": "2021-01-04T01:45:35.153971Z",
     "iopub.status.busy": "2021-01-04T01:45:35.153349Z",
     "iopub.status.idle": "2021-01-04T01:45:35.156658Z",
     "shell.execute_reply": "2021-01-04T01:45:35.157266Z"
    },
    "papermill": {
     "duration": 1.519443,
     "end_time": "2021-01-04T01:45:35.157422",
     "exception": false,
     "start_time": "2021-01-04T01:45:33.637979",
     "status": "completed"
    },
    "tags": []
   },
   "outputs": [
    {
     "name": "stdout",
     "output_type": "stream",
     "text": [
      "test loss: 0.036, test acc: 98.920%\n"
     ]
    }
   ],
   "source": [
    "print(\"test loss: {:.3f}, test acc: {:.3f}%\".format( results[0],results[1]*100 ))"
   ]
  },
  {
   "cell_type": "code",
   "execution_count": 21,
   "metadata": {
    "execution": {
     "iopub.execute_input": "2021-01-04T01:45:38.199593Z",
     "iopub.status.busy": "2021-01-04T01:45:38.198894Z",
     "iopub.status.idle": "2021-01-04T01:45:38.226159Z",
     "shell.execute_reply": "2021-01-04T01:45:38.225578Z"
    },
    "papermill": {
     "duration": 1.554914,
     "end_time": "2021-01-04T01:45:38.226275",
     "exception": false,
     "start_time": "2021-01-04T01:45:36.671361",
     "status": "completed"
    },
    "tags": []
   },
   "outputs": [
    {
     "data": {
      "text/plain": [
       "array([[4634,   36],\n",
       "       [  61, 4249]])"
      ]
     },
     "execution_count": 21,
     "metadata": {},
     "output_type": "execute_result"
    }
   ],
   "source": [
    "cm = confusion_matrix(y_test,y_pred)\n",
    "cm"
   ]
  },
  {
   "cell_type": "code",
   "execution_count": 22,
   "metadata": {
    "execution": {
     "iopub.execute_input": "2021-01-04T01:45:41.403295Z",
     "iopub.status.busy": "2021-01-04T01:45:41.402624Z",
     "iopub.status.idle": "2021-01-04T01:45:41.601803Z",
     "shell.execute_reply": "2021-01-04T01:45:41.601101Z"
    },
    "papermill": {
     "duration": 1.783263,
     "end_time": "2021-01-04T01:45:41.601919",
     "exception": false,
     "start_time": "2021-01-04T01:45:39.818656",
     "status": "completed"
    },
    "tags": []
   },
   "outputs": [
    {
     "data": {
      "text/plain": [
       "Text(69.0, 0.5, 'Actual')"
      ]
     },
     "execution_count": 22,
     "metadata": {},
     "output_type": "execute_result"
    },
    {
     "data": {
      "image/png": "[encoded data removed]",
      "text/plain": [
       "<Figure size 720x720 with 2 Axes>"
      ]
     },
     "metadata": {
      "needs_background": "light"
     },
     "output_type": "display_data"
    }
   ],
   "source": [
    "plt.figure(figsize = (10,10))\n",
    "sns.heatmap(cm,cmap= \"Blues\", linecolor = 'black' , linewidth = 1 , annot = True, fmt='' , xticklabels = ['Fake','Original'] , yticklabels = ['Fake','Original'])\n",
    "plt.xlabel(\"Predicted\")\n",
    "plt.ylabel(\"Actual\")"
   ]
  },
  {
   "cell_type": "code",
   "execution_count": null,
   "metadata": {
    "papermill": {
     "duration": 1.575818,
     "end_time": "2021-01-04T01:45:44.738910",
     "exception": false,
     "start_time": "2021-01-04T01:45:43.163092",
     "status": "completed"
    },
    "tags": []
   },
   "outputs": [],
   "source": []
  }
 ],
 "metadata": {
  "kernelspec": {
   "display_name": "Python 3",
   "language": "python",
   "name": "python3"
  },
  "language_info": {
   "codemirror_mode": {
    "name": "ipython",
    "version": 3
   },
   "file_extension": ".py",
   "mimetype": "text/x-python",
   "name": "python",
   "nbconvert_exporter": "python",
   "pygments_lexer": "ipython3",
   "version": "3.7.7"
  },
  "papermill": {
   "duration": 9946.868414,
   "end_time": "2021-01-04T01:45:46.359761",
   "environment_variables": {},
   "exception": null,
   "input_path": "__notebook__.ipynb",
   "output_path": "__notebook__.ipynb",
   "parameters": {},
   "start_time": "2021-01-03T22:59:59.491347",
   "version": "2.1.0"
  }
 },
 "nbformat": 4,
 "nbformat_minor": 4
}
