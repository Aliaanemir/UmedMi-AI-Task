{
 "cells": [
  {
   "cell_type": "markdown",
   "metadata": {},
   "source": [
    "# Part 1 ( Python ):\n"
   ]
  },
  {
   "cell_type": "markdown",
   "metadata": {},
   "source": [
    "### Q1: \n",
    "    Write a program that computes the value of a+aa+aaa+aaaa with a given digit as the value of a. Suppose the following input is supplied to the program: 9 Then, the output should be: 11106"
   ]
  },
  {
   "cell_type": "code",
   "execution_count": 1,
   "metadata": {},
   "outputs": [
    {
     "name": "stdout",
     "output_type": "stream",
     "text": [
      "Enter the value of a : 9\n",
      "11106\n"
     ]
    }
   ],
   "source": [
    "a  = input(\"Enter the value of a : \")\n",
    "output = 0\n",
    "\n",
    "for i in range(1,5):\n",
    "    term = int((\"%s\" % a)*i)\n",
    "    output += term\n",
    "    \n",
    "print(output)"
   ]
  },
  {
   "cell_type": "markdown",
   "metadata": {},
   "source": [
    "### Q2:\n",
    "    Please write a program to print the running time of execution of \"1+1\" for 100 times.\n"
   ]
  },
  {
   "cell_type": "code",
   "execution_count": 14,
   "metadata": {},
   "outputs": [
    {
     "name": "stdout",
     "output_type": "stream",
     "text": [
      "4.167000042798463e-06\n"
     ]
    }
   ],
   "source": [
    "from timeit import timeit\n",
    "print(timeit(\"for i in range(100): 1+1\", number=1))\n"
   ]
  },
  {
   "cell_type": "markdown",
   "metadata": {},
   "source": [
    "### Q3:\n",
    "    You are required to write a program to sort the (name, age, height) tuples by ascending order where name is string, age and height are numbers. The tuples are input by console. The sort criteria is: 1: Sort based on name; 2: Then sort based on age; 3: Then sort by score. The priority is that name > age > score. If the following tuples are given as input to the program: Tom,19,80 John,20,90 Jony,17,91 Jony,17,93 Json,21,85 Then, the output of the program should be: [('John', '20', '90'), ('Jony', '17', '91'), ('Jony', '17', '93'), ('Json', '21', '85'), ('Tom', '19', '80')]"
   ]
  },
  {
   "cell_type": "code",
   "execution_count": 5,
   "metadata": {},
   "outputs": [
    {
     "name": "stdout",
     "output_type": "stream",
     "text": [
      "Please enter the list of tuples: Tom,19,80 John,20,90 Jony,17,91 Jony,17,93 Json,21,85\n",
      "[('John', '20', '90'), ('Jony', '17', '91'), ('Jony', '17', '93'), ('Json', '21', '85'), ('Tom', '19', '80')]\n"
     ]
    }
   ],
   "source": [
    "#Getting the input from the user\n",
    "tuples_raw = input(\"Please enter the list of tuples: \")\n",
    "\n",
    "#splitting the input into a list of tuples\n",
    "tuples = [tuple(x.split(',')) for x in tuples_raw.split()]\n",
    "\n",
    "#sorting the tuples\n",
    "tuples.sort()\n",
    "\n",
    "print(tuples)"
   ]
  },
  {
   "cell_type": "markdown",
   "metadata": {},
   "source": [
    "### Q4:\n",
    "    Write a Python program to count the number of characters (character frequency) in a string.\n",
    "\n",
    "Examble: ('google.com') => {'g': 2, 'o': 3, 'l': 1, 'e': 1, '.': 1, 'c': 1, 'm': 1}"
   ]
  },
  {
   "cell_type": "code",
   "execution_count": 10,
   "metadata": {},
   "outputs": [
    {
     "name": "stdout",
     "output_type": "stream",
     "text": [
      "Enter a string: google.com\n",
      "{'g': 2, 'o': 3, 'l': 1, 'e': 1, '.': 1, 'c': 1, 'm': 1}\n"
     ]
    }
   ],
   "source": [
    "#Getting the input from the user\n",
    "input_string = input(\"Enter a string: \")\n",
    "\n",
    "letters = {}\n",
    "for s in input_string:\n",
    "    keys = letters.keys()\n",
    "    if s in keys:\n",
    "        letters[s] +=1\n",
    "    else:\n",
    "        letters[s] =1\n",
    "        \n",
    "print(letters)\n",
    "    \n",
    "    "
   ]
  },
  {
   "cell_type": "markdown",
   "metadata": {},
   "source": [
    "\n",
    "### Q5:\n",
    "    Write a Python program to add 'ing' at the end of a given string (length should be at least 3). If the given string already ends with 'ing' then add 'ly' instead. If the string length of the given string is less than 3, leave it unchanged.\n",
    "Examble \n",
    "\n",
    "        => ab => ab\n",
    "\n",
    "        => abc => abcing \n",
    "        \n",
    "        => string => stringly"
   ]
  },
  {
   "cell_type": "code",
   "execution_count": 1,
   "metadata": {},
   "outputs": [
    {
     "name": "stdout",
     "output_type": "stream",
     "text": [
      "ab\n",
      "abcing\n",
      "stringly\n"
     ]
    }
   ],
   "source": [
    "def program_ing(input_string):\n",
    "    #input_string = input(\"Enter a string: \")\n",
    "\n",
    "    if len(input_string) >= 3:\n",
    "        if input_string[-3:] == 'ing':\n",
    "            print(input_string + 'ly')\n",
    "        else:\n",
    "            print(input_string + 'ing')\n",
    "    else:\n",
    "        print(input_string)\n",
    "\n",
    "    \n",
    "#Test cases\n",
    "test_list = ['ab', 'abc', 'string']\n",
    "for word in test_list:\n",
    "    program_ing(word)\n"
   ]
  },
  {
   "cell_type": "markdown",
   "metadata": {},
   "source": [
    "### Q6:\n",
    "    Write a Python program to add 5 seconds with the current time.\n",
    "\n",
    "Examble: Current time=> 13:09:38.491219 After 5 seconds => 13:09:43.491219"
   ]
  },
  {
   "cell_type": "code",
   "execution_count": 30,
   "metadata": {},
   "outputs": [
    {
     "name": "stdout",
     "output_type": "stream",
     "text": [
      "Current time: 14:21:18.122242\n",
      "After 5 seconds: 14:21:23:122242\n"
     ]
    }
   ],
   "source": [
    "import datetime\n",
    "\n",
    "now = datetime.datetime.now()\n",
    "current_time = now.time()\n",
    "\n",
    "print(\"Current time: %s\\nAfter 5 seconds: %s:%d:%s\" %(current_time, current_time.strftime(\"%H:%M\"),\n",
    "                                                            current_time.second +5, current_time.microsecond))"
   ]
  },
  {
   "cell_type": "markdown",
   "metadata": {},
   "source": [
    "### Q7:\n",
    "\n",
    "Please solve this problem and write your code here?\n",
    "\n",
    "https://www.hackerrank.com/challenges/np-polynomials/problem"
   ]
  },
  {
   "cell_type": "code",
   "execution_count": 14,
   "metadata": {},
   "outputs": [
    {
     "name": "stdout",
     "output_type": "stream",
     "text": [
      "1.1 2 3\n",
      "0\n",
      "3.0\n"
     ]
    }
   ],
   "source": [
    "import numpy\n",
    "print (numpy.polyval(list(map(float, input().split())), float(input())))"
   ]
  },
  {
   "cell_type": "markdown",
   "metadata": {},
   "source": [
    "### Q8:\n",
    "\n",
    "Please solve this problem and write your code here?\n",
    "\n",
    "https://www.hackerrank.com/challenges/np-linear-algebra/problem"
   ]
  },
  {
   "cell_type": "code",
   "execution_count": 11,
   "metadata": {},
   "outputs": [
    {
     "name": "stdout",
     "output_type": "stream",
     "text": [
      "2\n",
      "1 2\n",
      "2 1\n",
      "-3.0\n"
     ]
    }
   ],
   "source": [
    "import numpy\n",
    "\n",
    "mat = []\n",
    "N = input()\n",
    "for i in range(int(N)):\n",
    "    mat.append(list(map(float, input().split())))\n",
    "\n",
    "print(round(numpy.linalg.det(mat),2))\n"
   ]
  },
  {
   "cell_type": "markdown",
   "metadata": {},
   "source": [
    "# Part2 (GUI):\n",
    "    Please create simple calculator like this image ( with the same colors and architecture ) "
   ]
  },
  {
   "cell_type": "markdown",
   "metadata": {},
   "source": [
    "![caption](files/image.jpg)"
   ]
  },
  {
   "cell_type": "code",
   "execution_count": 1,
   "metadata": {},
   "outputs": [],
   "source": [
    "from tkinter import *\n",
    "\n",
    "# defining button functions\n",
    "def click(button):\n",
    "    global operator\n",
    "    operator += str(button)\n",
    "    display_input.set(operator)\n",
    "\n",
    "def clear_display():\n",
    "    global operator\n",
    "    operator = \"\"\n",
    "    display_input.set(operator)\n",
    "    \n",
    "def calculate():\n",
    "    global operator\n",
    "    result = str(eval(operator))\n",
    "    display_input.set(result)\n",
    "    operator = \"\"\n",
    "    \n",
    "    \n",
    "#setting up the Calculator GUI    \n",
    "cal = Tk()\n",
    "cal.title('Calculator')\n",
    "operator = \"\"\n",
    "display_input = StringVar()\n",
    "display_input.set(\"Start Calculating...\")\n",
    "\n",
    "display = Entry(cal,bd = 13, font=(\"Verdana\", 15, 'bold'), fg ='white', textvariable=display_input, bg='green',\n",
    "                justify='right', width=23, selectborderwidth=30).grid(row = 0, column = 0,columnspan = 48)\n",
    "\n",
    "\n",
    "#numbers buttons\n",
    "buttons_font = 15\n",
    "numbers = \"789456123\"\n",
    "i = 0\n",
    "for j in range(1,4):\n",
    "    for k in range(3):\n",
    "        Button(cal,height =2,width=4,padx=10, pady = 10, text = numbers[i],bd=3, \n",
    "               font=('Time', buttons_font, 'bold'), command=lambda x = numbers[i]:click(x)\n",
    "              ).grid(row = j, column = k)\n",
    "        i += 1\n",
    "        \n",
    "num_0 = Button(cal,height =2,width=4,padx=10, pady = 10, text = '0',bd=3, font=('Time', buttons_font, 'bold'),\n",
    "              command=lambda:click(0)).grid(row = 4, column = 0)\n",
    "\n",
    "clear_button = Button(cal,height =2,width=4,padx=10, pady = 10, text = 'C',bd=3, \n",
    "                      font=('Time', buttons_font, 'bold'), bg='green',command=lambda:clear_display()\n",
    "                     ).grid(row = 1, column = 3)\n",
    "\n",
    "#math operators\n",
    "operators = \"+-*)\"\n",
    "i = 0\n",
    "for j in range(2,6):\n",
    "    Button(cal,height =2,width=4,padx=10, pady = 10, text = operators[i],bd=3, font=('Time', buttons_font,\n",
    "            'bold'), bg='orange', command=lambda x = operators[i]:click(x)).grid(row = j, column = 3)\n",
    "    i+=1\n",
    "    \n",
    "div = Button(cal,height =2,width=4,padx=10, pady=10, text = '/',bd=3, font=('Time', buttons_font, 'bold'),\n",
    "             bg='orange',command=lambda:click('/')).grid(row = 4, column = 2)\n",
    "paran = Button(cal,height =2,width=4,padx=10, pady=10, text = '(',bd=3, font=('Time', buttons_font, 'bold'),\n",
    "               bg='orange',command=lambda:click('(')).grid(row = 5, column = 2)\n",
    "point = Button(cal,height =2,width=4,padx=10, pady=10, text = '.',bd=3, font=('Time', buttons_font, 'bold'),\n",
    "               bg='orange',command=lambda:click('.')).grid(row = 4, column = 1)\n",
    "equal = Button(cal,height =2,width=4,padx=10, pady=10, text = '=',bd=3, font=('Time', buttons_font, 'bold'),\n",
    "               bg='green',command=lambda:calculate()).grid(row = 5, column = 0, columnspan = 2,sticky =W+E)\n",
    "\n",
    "cal.mainloop() "
   ]
  }
 ],
 "metadata": {
  "kernelspec": {
   "display_name": "Python 3",
   "language": "python",
   "name": "python3"
  },
  "language_info": {
   "codemirror_mode": {
    "name": "ipython",
    "version": 3
   },
   "file_extension": ".py",
   "mimetype": "text/x-python",
   "name": "python",
   "nbconvert_exporter": "python",
   "pygments_lexer": "ipython3",
   "version": "3.7.7"
  }
 },
 "nbformat": 4,
 "nbformat_minor": 4
}
